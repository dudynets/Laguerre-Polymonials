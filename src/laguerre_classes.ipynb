{
 "cells": [
  {
   "cell_type": "markdown",
   "id": "1bba764edd8112",
   "metadata": {
    "collapsed": false,
    "jupyter": {
     "outputs_hidden": false
    }
   },
   "source": [
    "# Перетворення Лагера"
   ]
  },
  {
   "cell_type": "code",
   "execution_count": 278,
   "id": "ff96af84dcd9d348",
   "metadata": {
    "ExecuteTime": {
     "end_time": "2023-12-11T22:12:40.680322Z",
     "start_time": "2023-12-11T22:12:40.584303Z"
    },
    "collapsed": false,
    "jupyter": {
     "outputs_hidden": false
    }
   },
   "outputs": [],
   "source": [
    "import numpy as np\n",
    "import pandas as pd\n",
    "import matplotlib.pyplot as plt\n",
    "import ipywidgets as widgets\n",
    "from typing import Callable, Union\n",
    "import unittest"
   ]
  },
  {
   "cell_type": "markdown",
   "id": "13280bb7",
   "metadata": {},
   "source": [
    "# Реалізація класу, що обраховує значення інтегралу від функції на проміжку [a, b]"
   ]
  },
  {
   "cell_type": "code",
   "execution_count": 279,
   "id": "010bbdb2",
   "metadata": {},
   "outputs": [],
   "source": [
    "class IntegralSolver:\n",
    "    \"\"\"\n",
    "    Клас для обчислення наближеного значення інтегралу методом прямокутників\n",
    "    \"\"\"\n",
    "\n",
    "    def __init__(self, f: Callable[[float], float]):\n",
    "        \"\"\"\n",
    "        Конструктор класу IntegralSolver\n",
    "\n",
    "        :param f: Функція, яку потрібно інтегрувати\n",
    "        \"\"\"\n",
    "\n",
    "        self._f = f\n",
    "        self._cache = {}\n",
    "\n",
    "\n",
    "    @property\n",
    "    def f(self) -> Callable[[float], float]:\n",
    "        return self._f\n",
    "    \n",
    "\n",
    "    def solve(self, a: float, b: float, int_points: int = 10000, use_cache: bool = True) -> Union[float, bool]:\n",
    "        \"\"\"\n",
    "        Метод для обчислення наближеного значення інтегралу методом прямокутників\n",
    "        Використовує кешування для оптимізації повторних обчислень\n",
    "\n",
    "        :param a:           Початок інтервалу\n",
    "        :param b:           Кінець інтервалу\n",
    "        :param int_points:  Кількість точок для інтегрування\n",
    "\n",
    "        :return: Значення інтегралу\n",
    "        \"\"\"\n",
    "\n",
    "        if use_cache:\n",
    "            cached_result = self._load_from_cache(a, b, int_points)\n",
    "            if cached_result is not None:\n",
    "                return cached_result, True\n",
    "\n",
    "        x = np.linspace(a, b, int_points)\n",
    "        s = sum([self.f(i) for i in x])\n",
    "        result = s * abs(b - a) / int_points\n",
    "\n",
    "        self._save_to_cache(a, b, int_points, result)\n",
    "\n",
    "        return result, False\n",
    "    \n",
    "    \n",
    "    def _save_to_cache(self, a: float, b: float, int_points: int, result: float) -> None:\n",
    "        \"\"\"\n",
    "        Метод для збереження результату обчислення в кеш\n",
    "\n",
    "        :param a:           Початок інтервалу\n",
    "        :param b:           Кінець інтервалу\n",
    "        :param int_points:  Кількість точок для інтегрування\n",
    "        :param result:      Значення інтегралу\n",
    "        \"\"\"\n",
    "        \n",
    "        self._cache[(a, b, int_points)] = result\n",
    "\n",
    "\n",
    "    def _load_from_cache(self, a: float, b: float, int_points: int) -> float:\n",
    "        \"\"\"\n",
    "        Метод для завантаження результату обчислення з кешу, якщо він збережений\n",
    "\n",
    "        :param a:           Початок інтервалу\n",
    "        :param b:           Кінець інтервалу\n",
    "        :param int_points:  Кількість точок для інтегрування\n",
    "\n",
    "        :return: Значення інтегралу\n",
    "        \"\"\"\n",
    "\n",
    "        return self._cache.get((a, b, int_points), None)"
   ]
  },
  {
   "cell_type": "code",
   "execution_count": 280,
   "id": "256c9598",
   "metadata": {},
   "outputs": [],
   "source": [
    "class TestIntegralSolver(unittest.TestCase):\n",
    "    def test_solve(self):\n",
    "        solver = IntegralSolver(lambda x: x**2)\n",
    "\n",
    "        # Test solve method\n",
    "        result, is_from_cache = solver.solve(0, 1, 10000)\n",
    "        self.assertAlmostEqual(result, 1/3, places=4)\n",
    "        self.assertFalse(is_from_cache)\n",
    "\n",
    "\n",
    "    def test_solve_from_cache(self):\n",
    "        solver = IntegralSolver(lambda x: x**2)\n",
    "\n",
    "        # Populate cache\n",
    "        result, is_from_cache = solver.solve(0, 1, 10000)\n",
    "        self.assertAlmostEqual(result, 1/3, places=4)\n",
    "        self.assertFalse(is_from_cache)\n",
    "\n",
    "        # Test solve from cache\n",
    "        result, is_from_cache = solver.solve(0, 1, 10000)\n",
    "        self.assertAlmostEqual(result, 1/3, places=4)\n",
    "        self.assertTrue(is_from_cache)\n",
    "\n",
    "\n",
    "    def test_disabled_cache(self):\n",
    "        solver = IntegralSolver(lambda x: x**2)\n",
    "\n",
    "        # Populate cache\n",
    "        result, is_from_cache = solver.solve(0, 1, 10000)\n",
    "        self.assertAlmostEqual(result, 1/3, places=4)\n",
    "        self.assertFalse(is_from_cache)\n",
    "\n",
    "        # Test disabled cache\n",
    "        result, is_from_cache = solver.solve(0, 1, 10000, use_cache=False)\n",
    "        self.assertAlmostEqual(result, 1/3, places=4)\n",
    "        self.assertFalse(is_from_cache)"
   ]
  },
  {
   "cell_type": "markdown",
   "id": "84f3425b",
   "metadata": {},
   "source": [
    "# Реалізація класу калькулятора многочленів Лагера"
   ]
  },
  {
   "cell_type": "code",
   "execution_count": 281,
   "id": "3c6a5d04",
   "metadata": {},
   "outputs": [],
   "source": [
    "class LaguerreSolver:\n",
    "    \"\"\"\n",
    "    Клас для роботи з многочленами Лаґерра\n",
    "    \"\"\"\n",
    "    \n",
    "    def __init__(self, beta: float = 2.0, sigma: float = 4.0):\n",
    "        if beta < 0:\n",
    "            raise ValueError('Value \"beta\" must be positive')\n",
    "\n",
    "        if sigma < beta:\n",
    "            raise ValueError('Value \"sigma\" must be greater than beta')\n",
    "\n",
    "        self._beta = beta\n",
    "        self._sigma = sigma\n",
    "\n",
    "\n",
    "    @property\n",
    "    def beta(self) -> float:\n",
    "        return self._beta\n",
    "\n",
    "\n",
    "    @property\n",
    "    def sigma(self) -> float:\n",
    "        return self._sigma\n",
    "\n",
    "\n",
    "    def solve_polynomial(\n",
    "        self,\n",
    "        t: float,\n",
    "        n: int,\n",
    "    ) -> float:\n",
    "        \"\"\"\n",
    "        Метод для обчислення многочлену Лаґерра\n",
    "        \n",
    "        :param t:       Значення аргументу\n",
    "        :param n:       Степінь многочлена Лаґерра\n",
    "        \n",
    "        :return:        Значення многочлена Лаґерра\n",
    "        \"\"\"\n",
    "\n",
    "        # Валідація вхідних даних\n",
    "        if n < 0:\n",
    "            raise ValueError('Value \"n\" must be positive')\n",
    "\n",
    "        # Найкращі випадки\n",
    "        l_prev_prev = np.sqrt(self.sigma) * np.exp(-self.beta * t / 2)\n",
    "        l_prev = np.sqrt(self.sigma) * (1 - self.sigma * t) * np.exp(-self.beta * t / 2)\n",
    "        if n == 0:\n",
    "            return l_prev_prev\n",
    "        if n == 1:\n",
    "            return l_prev\n",
    "\n",
    "        # Обчислення\n",
    "        for i in range(2, n + 1):\n",
    "            temp = l_prev\n",
    "            l_prev = (2 * i - 1 - self.sigma * t) * l_prev / i - (i - 1) * l_prev_prev / i\n",
    "            l_prev_prev = temp\n",
    "\n",
    "        return l_prev\n",
    "    \n",
    "\n",
    "    def tabulate_polynomial(\n",
    "            self,\n",
    "            n: int,\n",
    "            t_max: float,\n",
    "            t_step: float = 0.1,\n",
    "    ) -> pd.DataFrame:\n",
    "        \"\"\"\n",
    "        Функція для табуляції многочленів Лаґерра\n",
    "        \n",
    "        :param n:       Степінь многочлена Лаґерра\n",
    "        :param t_max:   Максимальне значення аргументу\n",
    "        :param t_step:  Крок аргументу\n",
    "        \n",
    "        :return:        DataFrame з табульованими значеннями\n",
    "        \"\"\"\n",
    "\n",
    "        # Валідація вхідних даних\n",
    "        if n < 0:\n",
    "            raise ValueError('Value \"n\" must be positive')\n",
    "\n",
    "        if t_max < 0:\n",
    "            raise ValueError('Value \"t_max\" must be positive')\n",
    "\n",
    "        if t_step < 0:\n",
    "            raise ValueError('Value \"t_step\" must be positive')\n",
    "\n",
    "        # Табуляція\n",
    "        t = np.arange(0, t_max, t_step)\n",
    "        return pd.DataFrame(\n",
    "            data={\n",
    "                't': t,\n",
    "                f'L_{n}': [self.solve_polynomial(t=i, n=n) for i in t]\n",
    "            }\n",
    "        ).set_index('t')\n",
    "    \n",
    "\n",
    "    def find_optimal_t(\n",
    "            self,\n",
    "            n_max: int = 20,\n",
    "            epsilon: float = 1e-3,\n",
    "            t_max: float = 100,\n",
    "            t_points: int = 1000,\n",
    "    ) -> tuple[float, pd.DataFrame]:\n",
    "        \"\"\"\n",
    "        Функція для проведення обчислювального експерименту. Пошук такого t, що |laguerre_polymonials(n, t)| < epsilon для усiх n Є [0, N]\n",
    "        \n",
    "        :param n_max:       Верхня межа степеня многочлена Лаґерра\n",
    "        :param epsilon:     Точність\n",
    "        :param t_max:       Максимальне значення аргументу\n",
    "        :param t_points:    Кількість точок для від 0 до t_max\n",
    "        \n",
    "        :return:            Кортеж з t та DataFrame з табульованими значеннями\n",
    "        \"\"\"\n",
    "\n",
    "        # Валідація вхідних даних\n",
    "        if n_max < 0:\n",
    "            raise ValueError('Value \"N\" must be positive')\n",
    "\n",
    "        if epsilon < 0:\n",
    "            raise ValueError('Value \"epsilon\" must be positive')\n",
    "\n",
    "        if t_max < 0:\n",
    "            raise ValueError('Value \"t_max\" must be positive')\n",
    "\n",
    "        if t_points < 0:\n",
    "            raise ValueError('Value \"t_points\" must be positive')\n",
    "\n",
    "        # Пошук t\n",
    "        T = np.linspace(0, t_max, t_points)\n",
    "        N = range(0, n_max + 1)\n",
    "        suitable_t = None\n",
    "        for t in T:\n",
    "            is_t_suitable = True\n",
    "            for n in N:\n",
    "                if abs(self.solve_polynomial(t=t, n=n)) > epsilon:\n",
    "                    is_t_suitable = False\n",
    "                    break\n",
    "            if is_t_suitable and suitable_t is None:\n",
    "                suitable_t = t\n",
    "                break\n",
    "\n",
    "        # Табуляція\n",
    "        return suitable_t, pd.DataFrame(\n",
    "            data={\n",
    "                'n': N,\n",
    "                'L_n': [self.solve_polynomial(t=suitable_t, n=n) for n in N]\n",
    "            }\n",
    "        ).set_index('n')\n",
    "    \n",
    "\n",
    "    def solve_laguerre_transform(\n",
    "            self,\n",
    "            f: Callable[[float], float],\n",
    "            n_max: int,\n",
    "            int_points: int = 10000\n",
    "    ) -> float:\n",
    "        \"\"\"\n",
    "        Функція для обчислення перетворення Лаґерра\n",
    "        \n",
    "        :param f:           Функція, яку перетворюємо\n",
    "        :param n_max:       Верхня межа степеня многочлена Лаґерра (N)\n",
    "        :param int_points:  Кількість точок для інтегрування\n",
    "        \n",
    "        :return:            Значення перетворення Лаґерра\n",
    "        \"\"\"\n",
    "\n",
    "        if n_max < 0:\n",
    "            raise ValueError('Value \"n_max\" must be positive')\n",
    "\n",
    "        if int_points < 0:\n",
    "            raise ValueError('Value \"int_points\" must be positive')\n",
    "\n",
    "        # Функція для інтегрування\n",
    "        def integrand(t):\n",
    "            alpha = self.sigma - self.beta\n",
    "            return f(t) * self.solve_polynomial(t=t, n=n_max) * np.exp(-alpha * t)\n",
    "\n",
    "        # Верхня межа інтегрування\n",
    "        t_max, _ = self.find_optimal_t(n_max=n_max)\n",
    "\n",
    "        integral_solver = IntegralSolver(integrand)\n",
    "        result, _ = integral_solver.solve(0, t_max, int_points, use_cache=True)\n",
    "        return result\n",
    "    \n",
    "\n",
    "    def tabulate_laguerre_transform(\n",
    "            self,\n",
    "            f: Callable[[float], float],\n",
    "            n_max: int,\n",
    "            int_points: int = 10000,\n",
    "    ) -> pd.DataFrame:\n",
    "        \"\"\"\n",
    "        Функція для табулювання перетворення Лаґерра\n",
    "        \n",
    "        :param f:           Функція, яку перетворюємо\n",
    "        :param n_max:       Верхня межа степеня многочлена Лаґерра (N)\n",
    "        :param int_points:  Кількість точок для інтегрування\n",
    "        \n",
    "        :return:            DataFrame з табульованими значеннями\n",
    "        \"\"\"\n",
    "\n",
    "        # Валідація вхідних даних\n",
    "        if n_max < 0:\n",
    "            raise ValueError('Value \"n_max\" must be positive')\n",
    "\n",
    "        if int_points < 0:\n",
    "            raise ValueError('Value \"t_step\" must be positive')\n",
    "\n",
    "        # Табулювання\n",
    "        N = range(0, n_max)\n",
    "        return pd.DataFrame(\n",
    "            data={\n",
    "                'n': N,\n",
    "                f'L_n': [self.solve_laguerre_transform(f=f, n_max=n, int_points=int_points) for n in N]\n",
    "            }\n",
    "        ).set_index('n')\n",
    "\n",
    "\n",
    "    def solve_inverse_laguerre_transform(\n",
    "            self,\n",
    "            h: list[float],\n",
    "            t: float,\n",
    "    ) -> float:\n",
    "        \"\"\"\n",
    "        Функція для обчислення оберненого перетворення Лаґерра\n",
    "        \n",
    "        :param h:       Довільна послідовність дійсних чисел\n",
    "        :param t:       Значення аргументу\n",
    "        \n",
    "        :return:        Значення оберненого перетворення Лаґерра\n",
    "        \"\"\"\n",
    "\n",
    "        # Обчислення\n",
    "        return sum([h[k] * self.solve_polynomial(t=t, n=k) for k in range(0, len(h))])"
   ]
  },
  {
   "cell_type": "code",
   "execution_count": 282,
   "id": "d3313480",
   "metadata": {},
   "outputs": [],
   "source": [
    "class TestLaguerreSolver(unittest.TestCase):\n",
    "    def test_constructor(self):\n",
    "        # Test beta validator\n",
    "        with self.assertRaises(ValueError):\n",
    "            LaguerreSolver(beta=-1)\n",
    "\n",
    "        # Test sigma validator\n",
    "        with self.assertRaises(ValueError):\n",
    "            LaguerreSolver(sigma=1, beta=2)\n",
    "\n",
    "    def test_solve_polynomial(self):\n",
    "        solver = LaguerreSolver()\n",
    "\n",
    "        # Test solve_polynomial method\n",
    "        result = solver.solve_polynomial(2, 2)\n",
    "        self.assertAlmostEqual(result, 4.601399630044832, places=4)\n",
    "\n",
    "        # Test n < 0\n",
    "        with self.assertRaises(ValueError):\n",
    "            solver.solve_polynomial(2, -1)\n",
    "\n",
    "\n",
    "    def test_tabulate_polynomial(self):\n",
    "        solver = LaguerreSolver()\n",
    "\n",
    "        # Test tabulate_polynomial method\n",
    "        result = solver.tabulate_polynomial(2, 10, 1)\n",
    "        self.assertEqual(result.shape, (10, 1))\n",
    "        self.assertAlmostEqual(result.iloc[0, 0], 2.0, places=4)\n",
    "        self.assertAlmostEqual(result.iloc[9, 0], 0.1424149139160282, places=4)\n",
    "\n",
    "        # Test n < 0\n",
    "        with self.assertRaises(ValueError):\n",
    "            solver.tabulate_polynomial(-1, 10, 1)\n",
    "\n",
    "        # Test t_max < 0\n",
    "        with self.assertRaises(ValueError):\n",
    "            solver.tabulate_polynomial(2, -1, 1)\n",
    "\n",
    "        # Test t_step < 0\n",
    "        with self.assertRaises(ValueError):\n",
    "            solver.tabulate_polynomial(2, 10, -1)\n",
    "\n",
    "        \n",
    "    def test_find_optimal_t(self):\n",
    "        solver = LaguerreSolver()\n",
    "\n",
    "        # Test find_optimal_t method\n",
    "        result, df = solver.find_optimal_t(20, 1e-3, 100, 1000)\n",
    "        self.assertAlmostEqual(result, 79.07907907907908, places=4)\n",
    "        self.assertEqual(df.shape, (21, 1))\n",
    "        self.assertAlmostEqual(df.iloc[0, 0], 9.066137838279844e-35, places=4)\n",
    "        self.assertAlmostEqual(df.iloc[20, 0], 0.0009699020960047245, places=4)\n",
    "\n",
    "        # Test n_max < 0\n",
    "        with self.assertRaises(ValueError):\n",
    "            solver.find_optimal_t(-1, 1e-3, 100, 1000)\n",
    "\n",
    "        # Test epsilon < 0\n",
    "        with self.assertRaises(ValueError):\n",
    "            solver.find_optimal_t(20, -1e-3, 100, 1000)\n",
    "\n",
    "        # Test t_max < 0\n",
    "        with self.assertRaises(ValueError):\n",
    "            solver.find_optimal_t(20, 1e-3, -100, 1000)\n",
    "\n",
    "        # Test t_points < 0\n",
    "        with self.assertRaises(ValueError):\n",
    "            solver.find_optimal_t(20, 1e-3, 100, -1000)\n",
    "\n",
    "    \n",
    "    def test_solve_laguerre_transform(self):\n",
    "        solver = LaguerreSolver()\n",
    "\n",
    "        # Test solve_laguerre_transform method\n",
    "        result = solver.solve_laguerre_transform(lambda x: x**2, 2)\n",
    "        self.assertAlmostEqual(result, 0.5431555555545893, places=4)\n",
    "\n",
    "        # Test n_max < 0\n",
    "        with self.assertRaises(ValueError):\n",
    "            solver.solve_laguerre_transform(lambda x: x**2, -1)\n",
    "\n",
    "        # Test int_points < 0\n",
    "        with self.assertRaises(ValueError):\n",
    "            solver.solve_laguerre_transform(lambda x: x**2, 2, -10000)\n",
    "\n",
    "    \n",
    "    def test_tabulate_laguerre_transform(self):\n",
    "        solver = LaguerreSolver()\n",
    "\n",
    "        # Test tabulate_laguerre_transform method\n",
    "        result = solver.tabulate_laguerre_transform(lambda x: x**2, 2, 10000)\n",
    "        self.assertEqual(result.shape, (2, 1))\n",
    "        self.assertAlmostEqual(result.iloc[0, 0], 0.14813332817992056, places=4)\n",
    "        self.assertAlmostEqual(result.iloc[1, 0], -0.44439999999445956, places=4)\n",
    "\n",
    "        # Test n_max < 0\n",
    "        with self.assertRaises(ValueError):\n",
    "            solver.tabulate_laguerre_transform(lambda x: x**2, -1, 10000)\n",
    "\n",
    "        # Test int_points < 0\n",
    "        with self.assertRaises(ValueError):\n",
    "            solver.tabulate_laguerre_transform(lambda x: x**2, 2, -10000)\n",
    "\n",
    "\n",
    "    def test_solve_inverse_laguerre_transform(self):\n",
    "        solver = LaguerreSolver()\n",
    "\n",
    "        # Test solve_inverse_laguerre_transform method\n",
    "        result = solver.solve_inverse_laguerre_transform([1, 2, 3], 2)\n",
    "        self.assertAlmostEqual(result, 10.285481525982567, places=4)"
   ]
  },
  {
   "cell_type": "markdown",
   "id": "bcf9e709",
   "metadata": {},
   "source": [
    "# Реалізація класу, що створює графіки до многочленів Лагера"
   ]
  },
  {
   "cell_type": "code",
   "execution_count": 283,
   "id": "f8c28af0",
   "metadata": {},
   "outputs": [],
   "source": [
    "class LaguerrePlotter(LaguerreSolver):\n",
    "    \"\"\"\n",
    "    Клас для побудови графіків многочленів Лаґерра та їх перетворень\n",
    "    \"\"\"\n",
    "\n",
    "    def plot_laguerre_polynomials(\n",
    "            self,\n",
    "            t_max: float,\n",
    "            n_max: int,\n",
    "            t_step: float = 0.01,\n",
    "    ) -> None:\n",
    "        \"\"\"\n",
    "        Функція для побудови графіку многочленів Лаґерра\n",
    "        \n",
    "        :param t_max:   Максимальне значення аргументу\n",
    "        :param n_max:   Верхня межа степеня многочлена Лаґерра\n",
    "        :param t_step:  Крок аргументу\n",
    "        \n",
    "        :return:        None\n",
    "        \"\"\"\n",
    "\n",
    "        plt.figure(figsize=(12, 8))\n",
    "\n",
    "        for n in range(0, n_max + 1):\n",
    "            l_n_tabulation = self.tabulate_polynomial(\n",
    "                n=n,\n",
    "                t_max=t_max,\n",
    "                t_step=t_step\n",
    "            )\n",
    "            plt.plot(l_n_tabulation.index, l_n_tabulation[f'L_{n}'], label='$L_{' + str(n) + '}$')\n",
    "\n",
    "        plt.title('Многочлени Лаґерра')\n",
    "        plt.xlabel('t')\n",
    "        plt.ylabel('$L_n(t)$')\n",
    "        plt.grid()\n",
    "        plt.legend(\n",
    "            loc='upper left',\n",
    "            bbox_to_anchor=(-0.2, 1)\n",
    "        )\n",
    "\n",
    "        plt.show()\n",
    "\n",
    "\n",
    "    def plot_laguerre_transform(\n",
    "            self,\n",
    "            f: Callable[[float], float],\n",
    "            n_max: int,\n",
    "            t_max: float = np.pi * 2,\n",
    "            t_step: float = 0.01,\n",
    "            int_points: int = 10000,\n",
    "    ) -> None:\n",
    "        \"\"\"\n",
    "        Функція для побудови графіку перетворення Лаґерра\n",
    "        \n",
    "        :param f:           Функція, яку перетворюємо\n",
    "        :param n_max:       Верхня межа степеня многочлена Лаґерра (N)\n",
    "        :param t_max:       Максимальне значення аргументу\n",
    "        :param t_step:      Крок аргументу\n",
    "        :param int_points:  Кількість точок для інтегрування\n",
    "        \n",
    "        :return:            None\n",
    "        \"\"\"\n",
    "\n",
    "        # Обчислення послідовності h\n",
    "        laguerre_transform_tabulation_values = self.tabulate_laguerre_transform(\n",
    "            f=f,\n",
    "            n_max=n_max,\n",
    "            int_points=int_points,\n",
    "        )\n",
    "        h = laguerre_transform_tabulation_values['L_n'].tolist()\n",
    "\n",
    "        # Табулювання\n",
    "        T = np.arange(0, t_max, t_step)\n",
    "        inverse_laguerre_transform_tabulation = pd.DataFrame(\n",
    "            data={\n",
    "                't': T,\n",
    "                'h': [self.solve_inverse_laguerre_transform(h=h, t=t) for t in T]\n",
    "            }\n",
    "        ).set_index('t')\n",
    "\n",
    "        # Побудова графіків\n",
    "        plt.figure(figsize=(12, 8))\n",
    "        plt.subplots_adjust(hspace=0.5)\n",
    "        plt.suptitle(f'Графік $\\\\widetilde{{f}}^N(t), t\\\\in[0, {t_max}]$')\n",
    "\n",
    "        # Перетворення Лаґерра\n",
    "        plt.subplot(2, 1, 1)\n",
    "        plt.plot(\n",
    "            laguerre_transform_tabulation_values.index,\n",
    "            laguerre_transform_tabulation_values['L_n'],\n",
    "        )\n",
    "        plt.title(f'Перетворення Лаґерра, N = {n_max}')\n",
    "        plt.xlabel('n')\n",
    "        plt.ylabel(r'$L_{N}$')\n",
    "        plt.grid()\n",
    "\n",
    "        # Обернене перетворення Лаґерра\n",
    "        plt.subplot(2, 1, 2)\n",
    "        initial_function_tabulation = pd.DataFrame(\n",
    "            data={\n",
    "                't': T,\n",
    "                'f': [f(t) for t in T]\n",
    "            }\n",
    "        ).set_index('t')\n",
    "        plt.plot(\n",
    "            initial_function_tabulation.index,\n",
    "            initial_function_tabulation['f'],\n",
    "            label='Початкова функція',\n",
    "            linewidth=6,\n",
    "            color='black',\n",
    "            alpha=0.25\n",
    "        )\n",
    "\n",
    "        plt.plot(\n",
    "            inverse_laguerre_transform_tabulation.index,\n",
    "            inverse_laguerre_transform_tabulation['h'],\n",
    "            label='Обернене перетворення Лаґерра',\n",
    "            linewidth=1,\n",
    "            color='green'\n",
    "        )\n",
    "\n",
    "        plt.title('Обернене перетворення Лаґерра')\n",
    "        plt.xlabel('t')\n",
    "        plt.ylabel(r'$\\widetilde{f}^N(t)$')\n",
    "        plt.legend()\n",
    "        plt.grid()\n",
    "\n",
    "        plt.show()"
   ]
  },
  {
   "cell_type": "markdown",
   "id": "f8b4c82f",
   "metadata": {},
   "source": [
    "# Unit тестування модулів програми"
   ]
  },
  {
   "cell_type": "code",
   "execution_count": 284,
   "id": "6ebf9b2d",
   "metadata": {},
   "outputs": [
    {
     "name": "stderr",
     "output_type": "stream",
     "text": [
      "test_disabled_cache (__main__.TestIntegralSolver.test_disabled_cache) ... ok\n",
      "test_solve (__main__.TestIntegralSolver.test_solve) ... ok\n",
      "test_solve_from_cache (__main__.TestIntegralSolver.test_solve_from_cache) ... ok\n",
      "test_constructor (__main__.TestLaguerreSolver.test_constructor) ... ok\n",
      "test_find_optimal_t (__main__.TestLaguerreSolver.test_find_optimal_t) ... ok\n",
      "test_solve_inverse_laguerre_transform (__main__.TestLaguerreSolver.test_solve_inverse_laguerre_transform) ... ok\n",
      "test_solve_laguerre_transform (__main__.TestLaguerreSolver.test_solve_laguerre_transform) ... ok\n",
      "test_solve_polynomial (__main__.TestLaguerreSolver.test_solve_polynomial) ... ok\n",
      "test_tabulate_laguerre_transform (__main__.TestLaguerreSolver.test_tabulate_laguerre_transform) ... ok\n",
      "test_tabulate_polynomial (__main__.TestLaguerreSolver.test_tabulate_polynomial) ... ok\n",
      "\n",
      "----------------------------------------------------------------------\n",
      "Ran 10 tests in 0.147s\n",
      "\n",
      "OK\n"
     ]
    },
    {
     "data": {
      "text/plain": [
       "<unittest.main.TestProgram at 0x158124ec0>"
      ]
     },
     "execution_count": 284,
     "metadata": {},
     "output_type": "execute_result"
    }
   ],
   "source": [
    "unittest.main(argv=[''], verbosity=2, exit=False)"
   ]
  },
  {
   "cell_type": "markdown",
   "id": "94910f61",
   "metadata": {},
   "source": [
    "## 1.5.1 Многочлени Лаґерра\n",
    "\n",
    "Функція, що обчислює многочлен Лаґерра порядку n, для заданого значення аргументу t та параметрів beta та sigma"
   ]
  },
  {
   "cell_type": "code",
   "execution_count": 285,
   "id": "517a2935",
   "metadata": {},
   "outputs": [],
   "source": [
    "# Створення об'єкту класу для обрахунку многочленів Лаґерра\n",
    "solver = LaguerreSolver(2, 4)\n",
    "\n",
    "# Створення об'єкту класу для побудови графіків многочленів Лаґерра та їх перетворень\n",
    "plotter = LaguerrePlotter(2, 4)"
   ]
  },
  {
   "cell_type": "code",
   "execution_count": 286,
   "id": "6bffb46585a6f801",
   "metadata": {
    "ExecuteTime": {
     "end_time": "2023-12-11T22:12:40.746050Z",
     "start_time": "2023-12-11T22:12:40.603859Z"
    },
    "collapsed": false,
    "jupyter": {
     "outputs_hidden": false
    }
   },
   "outputs": [
    {
     "data": {
      "application/vnd.jupyter.widget-view+json": {
       "model_id": "1e181c70a0094b22bb7b5ea3cb721ce3",
       "version_major": 2,
       "version_minor": 0
      },
      "text/plain": [
       "interactive(children=(FloatSlider(value=2.0, description='t', max=10.0), IntSlider(value=2, description='n', m…"
      ]
     },
     "metadata": {},
     "output_type": "display_data"
    },
    {
     "data": {
      "text/plain": [
       "<function ipywidgets.widgets.interaction._InteractFactory.__call__.<locals>.<lambda>(*args, **kwargs)>"
      ]
     },
     "execution_count": 286,
     "metadata": {},
     "output_type": "execute_result"
    }
   ],
   "source": [
    "widgets.interact(\n",
    "    solver.solve_polynomial,\n",
    "    t=widgets.FloatSlider(\n",
    "        value=2,\n",
    "        min=0,\n",
    "        max=10,\n",
    "        step=0.1,\n",
    "        description='t'\n",
    "    ),\n",
    "    n=widgets.IntSlider(\n",
    "        value=2,\n",
    "        min=0,\n",
    "        max=20,\n",
    "        step=1,\n",
    "        description='n'\n",
    "    )\n",
    ")"
   ]
  },
  {
   "cell_type": "markdown",
   "id": "3dae962aedca866a",
   "metadata": {
    "collapsed": false,
    "jupyter": {
     "outputs_hidden": false
    }
   },
   "source": [
    "![Widget screenshot](screenshots/classes_1.png)"
   ]
  },
  {
   "cell_type": "markdown",
   "id": "68dc3af68896d449",
   "metadata": {
    "collapsed": false,
    "jupyter": {
     "outputs_hidden": false
    }
   },
   "source": [
    "## 1.5.2 Табуляція многочленів Лаґерра\n",
    "\n",
    "Функція, що табулює многочлен Лаґерра порядку n від 0 до t_max"
   ]
  },
  {
   "cell_type": "code",
   "execution_count": 287,
   "id": "27c2d7c3d21dd2ae",
   "metadata": {
    "ExecuteTime": {
     "end_time": "2023-12-11T22:12:40.770784Z",
     "start_time": "2023-12-11T22:12:40.638019Z"
    },
    "collapsed": false,
    "jupyter": {
     "outputs_hidden": false
    }
   },
   "outputs": [
    {
     "data": {
      "application/vnd.jupyter.widget-view+json": {
       "model_id": "c5ef80e9e8c549d89f0248ef12ff9f91",
       "version_major": 2,
       "version_minor": 0
      },
      "text/plain": [
       "interactive(children=(IntSlider(value=2, description='n', max=20), FloatSlider(value=5.0, description='Макс. t…"
      ]
     },
     "metadata": {},
     "output_type": "display_data"
    },
    {
     "data": {
      "text/plain": [
       "<function ipywidgets.widgets.interaction._InteractFactory.__call__.<locals>.<lambda>(*args, **kwargs)>"
      ]
     },
     "execution_count": 287,
     "metadata": {},
     "output_type": "execute_result"
    }
   ],
   "source": [
    "widgets.interact(\n",
    "    solver.tabulate_polynomial,\n",
    "    n=widgets.IntSlider(\n",
    "        value=2,\n",
    "        min=0,\n",
    "        max=20,\n",
    "        step=1,\n",
    "        description='n'\n",
    "    ),\n",
    "    t_max=widgets.FloatSlider(\n",
    "        value=5,\n",
    "        min=0,\n",
    "        max=10,\n",
    "        step=0.1,\n",
    "        description='Макс. t'\n",
    "    ),\n",
    "    t_step=widgets.FloatSlider(\n",
    "        value=0.1,\n",
    "        min=0.1,\n",
    "        max=1,\n",
    "        step=0.1,\n",
    "        description='Крок t'\n",
    "    )\n",
    ")"
   ]
  },
  {
   "cell_type": "markdown",
   "id": "77fb83c8fb83d463",
   "metadata": {
    "collapsed": false,
    "jupyter": {
     "outputs_hidden": false
    }
   },
   "source": [
    "![Widget screenshot](screenshots/classes_2.png)"
   ]
  },
  {
   "cell_type": "markdown",
   "id": "5dd01eb4a51818e1",
   "metadata": {
    "collapsed": false,
    "jupyter": {
     "outputs_hidden": false
    }
   },
   "source": [
    "## 1.5.3 Обчислювальний експеримент\n",
    "\n",
    "Функція, що визначає найменше значення аргументу t, при якому всі поліноми Лаґерра порядку від 0 до n_max — менші за epsilon"
   ]
  },
  {
   "cell_type": "code",
   "execution_count": 288,
   "id": "db60a5e13e676acd",
   "metadata": {
    "ExecuteTime": {
     "end_time": "2023-12-11T22:12:40.779638Z",
     "start_time": "2023-12-11T22:12:40.669288Z"
    },
    "collapsed": false,
    "jupyter": {
     "outputs_hidden": false
    }
   },
   "outputs": [
    {
     "name": "stdout",
     "output_type": "stream",
     "text": [
      "Оптимальне значення t: 79.07907907907908\n"
     ]
    },
    {
     "data": {
      "text/html": [
       "<div>\n",
       "<style scoped>\n",
       "    .dataframe tbody tr th:only-of-type {\n",
       "        vertical-align: middle;\n",
       "    }\n",
       "\n",
       "    .dataframe tbody tr th {\n",
       "        vertical-align: top;\n",
       "    }\n",
       "\n",
       "    .dataframe thead th {\n",
       "        text-align: right;\n",
       "    }\n",
       "</style>\n",
       "<table border=\"1\" class=\"dataframe\">\n",
       "  <thead>\n",
       "    <tr style=\"text-align: right;\">\n",
       "      <th></th>\n",
       "      <th>L_n</th>\n",
       "    </tr>\n",
       "    <tr>\n",
       "      <th>n</th>\n",
       "      <th></th>\n",
       "    </tr>\n",
       "  </thead>\n",
       "  <tbody>\n",
       "    <tr>\n",
       "      <th>0</th>\n",
       "      <td>9.066138e-35</td>\n",
       "    </tr>\n",
       "    <tr>\n",
       "      <th>1</th>\n",
       "      <td>-2.858701e-32</td>\n",
       "    </tr>\n",
       "    <tr>\n",
       "      <th>2</th>\n",
       "      <td>4.478343e-30</td>\n",
       "    </tr>\n",
       "    <tr>\n",
       "      <th>3</th>\n",
       "      <td>-4.647081e-28</td>\n",
       "    </tr>\n",
       "    <tr>\n",
       "      <th>4</th>\n",
       "      <td>3.593209e-26</td>\n",
       "    </tr>\n",
       "    <tr>\n",
       "      <th>5</th>\n",
       "      <td>-2.208132e-24</td>\n",
       "    </tr>\n",
       "    <tr>\n",
       "      <th>6</th>\n",
       "      <td>1.123332e-22</td>\n",
       "    </tr>\n",
       "    <tr>\n",
       "      <th>7</th>\n",
       "      <td>-4.865604e-21</td>\n",
       "    </tr>\n",
       "    <tr>\n",
       "      <th>8</th>\n",
       "      <td>1.831625e-19</td>\n",
       "    </tr>\n",
       "    <tr>\n",
       "      <th>9</th>\n",
       "      <td>-6.087176e-18</td>\n",
       "    </tr>\n",
       "    <tr>\n",
       "      <th>10</th>\n",
       "      <td>1.808168e-16</td>\n",
       "    </tr>\n",
       "    <tr>\n",
       "      <th>11</th>\n",
       "      <td>-4.848845e-15</td>\n",
       "    </tr>\n",
       "    <tr>\n",
       "      <th>12</th>\n",
       "      <td>1.183547e-13</td>\n",
       "    </tr>\n",
       "    <tr>\n",
       "      <th>13</th>\n",
       "      <td>-2.647728e-12</td>\n",
       "    </tr>\n",
       "    <tr>\n",
       "      <th>14</th>\n",
       "      <td>5.460659e-11</td>\n",
       "    </tr>\n",
       "    <tr>\n",
       "      <th>15</th>\n",
       "      <td>-1.043487e-09</td>\n",
       "    </tr>\n",
       "    <tr>\n",
       "      <th>16</th>\n",
       "      <td>1.855654e-08</td>\n",
       "    </tr>\n",
       "    <tr>\n",
       "      <th>17</th>\n",
       "      <td>-3.082750e-07</td>\n",
       "    </tr>\n",
       "    <tr>\n",
       "      <th>18</th>\n",
       "      <td>4.800407e-06</td>\n",
       "    </tr>\n",
       "    <tr>\n",
       "      <th>19</th>\n",
       "      <td>-7.027805e-05</td>\n",
       "    </tr>\n",
       "    <tr>\n",
       "      <th>20</th>\n",
       "      <td>9.699021e-04</td>\n",
       "    </tr>\n",
       "  </tbody>\n",
       "</table>\n",
       "</div>"
      ],
      "text/plain": [
       "             L_n\n",
       "n               \n",
       "0   9.066138e-35\n",
       "1  -2.858701e-32\n",
       "2   4.478343e-30\n",
       "3  -4.647081e-28\n",
       "4   3.593209e-26\n",
       "5  -2.208132e-24\n",
       "6   1.123332e-22\n",
       "7  -4.865604e-21\n",
       "8   1.831625e-19\n",
       "9  -6.087176e-18\n",
       "10  1.808168e-16\n",
       "11 -4.848845e-15\n",
       "12  1.183547e-13\n",
       "13 -2.647728e-12\n",
       "14  5.460659e-11\n",
       "15 -1.043487e-09\n",
       "16  1.855654e-08\n",
       "17 -3.082750e-07\n",
       "18  4.800407e-06\n",
       "19 -7.027805e-05\n",
       "20  9.699021e-04"
      ]
     },
     "execution_count": 288,
     "metadata": {},
     "output_type": "execute_result"
    }
   ],
   "source": [
    "t, df = solver.find_optimal_t()\n",
    "print(f'Оптимальне значення t: {t}')\n",
    "df"
   ]
  },
  {
   "cell_type": "markdown",
   "id": "7a2427fee3b86b49",
   "metadata": {
    "collapsed": false,
    "jupyter": {
     "outputs_hidden": false
    }
   },
   "source": [
    "## 1.5.4 Обчислення значень інтегралів\n",
    "\n",
    "Функція для обчислення прямого перетворення Лаґерра за допомогою апроксимації інтегралу методом прямокутників"
   ]
  },
  {
   "cell_type": "code",
   "execution_count": 289,
   "id": "20451671c4e822d",
   "metadata": {
    "ExecuteTime": {
     "end_time": "2023-12-11T22:12:40.874715Z",
     "start_time": "2023-12-11T22:12:40.694086Z"
    },
    "collapsed": false,
    "jupyter": {
     "outputs_hidden": false
    }
   },
   "outputs": [
    {
     "data": {
      "application/vnd.jupyter.widget-view+json": {
       "model_id": "2385c9f3889748a69d0a01c535f1dd8f",
       "version_major": 2,
       "version_minor": 0
      },
      "text/plain": [
       "interactive(children=(IntSlider(value=20, description='Макс. n', max=20), IntSlider(value=10000, description='…"
      ]
     },
     "metadata": {},
     "output_type": "display_data"
    },
    {
     "data": {
      "text/plain": [
       "<function ipywidgets.widgets.interaction._InteractFactory.__call__.<locals>.<lambda>(*args, **kwargs)>"
      ]
     },
     "execution_count": 289,
     "metadata": {},
     "output_type": "execute_result"
    }
   ],
   "source": [
    "widgets.interact(\n",
    "    solver.solve_laguerre_transform,\n",
    "    f=widgets.fixed(lambda t: np.exp(-t ** 2)),\n",
    "    n_max=widgets.IntSlider(\n",
    "        value=20,\n",
    "        min=0,\n",
    "        max=20,\n",
    "        step=1,\n",
    "        description='Макс. n'\n",
    "    ),\n",
    "    int_points=widgets.IntSlider(\n",
    "        value=10000,\n",
    "        min=1,\n",
    "        max=100000,\n",
    "        step=1000,\n",
    "        description='К-сть інтервалів розбиття для інтегрування'\n",
    "    ),\n",
    ")"
   ]
  },
  {
   "cell_type": "markdown",
   "id": "3921df6758a54903",
   "metadata": {
    "collapsed": false,
    "jupyter": {
     "outputs_hidden": false
    }
   },
   "source": [
    "![Widget screenshot](screenshots/classes_3.png)"
   ]
  },
  {
   "cell_type": "markdown",
   "id": "d814c8d18dbcf07e",
   "metadata": {
    "collapsed": false,
    "jupyter": {
     "outputs_hidden": false
    }
   },
   "source": [
    "## 1.5.5 Перетворення Лаґерра\n",
    "\n",
    "Функція для табулювання прямого перетворення Лаґерра порядку від 0 до n_max"
   ]
  },
  {
   "cell_type": "code",
   "execution_count": 290,
   "id": "9f22859df0d2c18c",
   "metadata": {
    "ExecuteTime": {
     "end_time": "2023-12-11T22:12:42.186247Z",
     "start_time": "2023-12-11T22:12:40.839210Z"
    },
    "collapsed": false,
    "jupyter": {
     "outputs_hidden": false
    }
   },
   "outputs": [
    {
     "data": {
      "application/vnd.jupyter.widget-view+json": {
       "model_id": "890ae2bb34eb44489456a04b78e5c47e",
       "version_major": 2,
       "version_minor": 0
      },
      "text/plain": [
       "interactive(children=(IntSlider(value=20, description='Макс. n', max=20), IntSlider(value=10000, description='…"
      ]
     },
     "metadata": {},
     "output_type": "display_data"
    },
    {
     "data": {
      "text/plain": [
       "<function ipywidgets.widgets.interaction._InteractFactory.__call__.<locals>.<lambda>(*args, **kwargs)>"
      ]
     },
     "execution_count": 290,
     "metadata": {},
     "output_type": "execute_result"
    }
   ],
   "source": [
    "# Визначення функції\n",
    "def f(t):\n",
    "    if t >= 2 * np.pi:\n",
    "        return 0\n",
    "    return np.sin(t - np.pi / 2) + 1\n",
    "\n",
    "\n",
    "# Табулювання\n",
    "widgets.interact(\n",
    "    solver.tabulate_laguerre_transform,\n",
    "    f=widgets.fixed(f),\n",
    "    n_max=widgets.IntSlider(\n",
    "        value=20,\n",
    "        min=0,\n",
    "        max=20,\n",
    "        step=1,\n",
    "        description='Макс. n'\n",
    "    ),\n",
    "    int_points=widgets.IntSlider(\n",
    "        value=10000,\n",
    "        min=1,\n",
    "        max=100000,\n",
    "        step=1000,\n",
    "        description='К-сть інтервалів розбиття для інтегрування'\n",
    "    ),\n",
    ")"
   ]
  },
  {
   "cell_type": "markdown",
   "id": "c237f66b130c83ac",
   "metadata": {
    "collapsed": false,
    "jupyter": {
     "outputs_hidden": false
    }
   },
   "source": [
    "![Widget screenshot](screenshots/classes_4.png)"
   ]
  },
  {
   "cell_type": "markdown",
   "id": "8e6a5a0fffd545eb",
   "metadata": {
    "collapsed": false,
    "jupyter": {
     "outputs_hidden": false
    }
   },
   "source": [
    "## 1.5.6 Обернене перетворення Лаґерра\n",
    "\n",
    "Функція для обчислення оберненого перетворення Лаґерра. Приймає послідовність коєфіцієнтів h, які можна отримати з табуляції перетворення Лаґерра"
   ]
  },
  {
   "cell_type": "code",
   "execution_count": 291,
   "id": "cf7355cd49995af4",
   "metadata": {
    "ExecuteTime": {
     "end_time": "2023-12-11T22:12:43.530148Z",
     "start_time": "2023-12-11T22:12:42.197637Z"
    },
    "collapsed": false,
    "jupyter": {
     "outputs_hidden": false
    }
   },
   "outputs": [
    {
     "data": {
      "application/vnd.jupyter.widget-view+json": {
       "model_id": "76af17edd3174d5689c207b4321fffa0",
       "version_major": 2,
       "version_minor": 0
      },
      "text/plain": [
       "interactive(children=(FloatSlider(value=2.0, description='t', max=10.0), Output()), _dom_classes=('widget-inte…"
      ]
     },
     "metadata": {},
     "output_type": "display_data"
    },
    {
     "data": {
      "text/plain": [
       "<function ipywidgets.widgets.interaction._InteractFactory.__call__.<locals>.<lambda>(*args, **kwargs)>"
      ]
     },
     "execution_count": 291,
     "metadata": {},
     "output_type": "execute_result"
    }
   ],
   "source": [
    "# Отримуємо послідовність h з табуляції перетворення Лаґерра\n",
    "h = solver.tabulate_laguerre_transform(\n",
    "    f=f,\n",
    "    n_max=20,\n",
    "    int_points=10000\n",
    ")['L_n'].tolist()\n",
    "\n",
    "widgets.interact(\n",
    "    solver.solve_inverse_laguerre_transform,\n",
    "    h=widgets.fixed(h),\n",
    "    t=widgets.FloatSlider(\n",
    "        value=2,\n",
    "        min=0,\n",
    "        max=10,\n",
    "        step=0.1,\n",
    "        description='t'\n",
    "    )\n",
    ")"
   ]
  },
  {
   "cell_type": "markdown",
   "id": "43b097e542ccc1c4",
   "metadata": {
    "collapsed": false,
    "jupyter": {
     "outputs_hidden": false
    }
   },
   "source": [
    "![Widget screenshot](screenshots/classes_5.png)"
   ]
  },
  {
   "cell_type": "markdown",
   "id": "7b92a72a3f9ee48",
   "metadata": {
    "collapsed": false,
    "jupyter": {
     "outputs_hidden": false
    }
   },
   "source": [
    "## 1.5.7 Графік функції Лаґерра\n",
    "\n",
    "Функція для побудови графіку многочленів Лаґерра порядку від 0 до n_max"
   ]
  },
  {
   "cell_type": "code",
   "execution_count": 292,
   "id": "c37853a483cb2bd5",
   "metadata": {
    "ExecuteTime": {
     "end_time": "2023-12-11T22:12:43.770580Z",
     "start_time": "2023-12-11T22:12:43.543065Z"
    },
    "collapsed": false,
    "jupyter": {
     "outputs_hidden": false
    }
   },
   "outputs": [
    {
     "data": {
      "application/vnd.jupyter.widget-view+json": {
       "model_id": "f80dee2237d24e31be2e1f4ec83adfae",
       "version_major": 2,
       "version_minor": 0
      },
      "text/plain": [
       "interactive(children=(FloatSlider(value=4.0, description='Макс. t', max=10.0), IntSlider(value=20, description…"
      ]
     },
     "metadata": {},
     "output_type": "display_data"
    },
    {
     "data": {
      "text/plain": [
       "<function ipywidgets.widgets.interaction._InteractFactory.__call__.<locals>.<lambda>(*args, **kwargs)>"
      ]
     },
     "execution_count": 292,
     "metadata": {},
     "output_type": "execute_result"
    }
   ],
   "source": [
    "widgets.interact(\n",
    "    plotter.plot_laguerre_polynomials,\n",
    "    n_max=widgets.IntSlider(\n",
    "        value=20,\n",
    "        min=0,\n",
    "        max=20,\n",
    "        step=1,\n",
    "        description='Макс. n'\n",
    "    ),\n",
    "    t_max=widgets.FloatSlider(\n",
    "        value=4,\n",
    "        min=0,\n",
    "        max=10,\n",
    "        step=0.1,\n",
    "        description='Макс. t'\n",
    "    ),\n",
    "    t_step=widgets.FloatSlider(\n",
    "        value=0.01,\n",
    "        min=0.01,\n",
    "        max=1,\n",
    "        step=0.01,\n",
    "        description='Крок t'\n",
    "    )    \n",
    ")"
   ]
  },
  {
   "cell_type": "markdown",
   "id": "a30fc0a052d694c9",
   "metadata": {
    "collapsed": false,
    "jupyter": {
     "outputs_hidden": false
    }
   },
   "source": [
    "![Widget screenshot](screenshots/classes_6.png)"
   ]
  },
  {
   "cell_type": "markdown",
   "id": "546ee19deb293c7e",
   "metadata": {
    "collapsed": false,
    "jupyter": {
     "outputs_hidden": false
    }
   },
   "source": [
    "## 1.5.8 Графік $\\widetilde{f}^N(t), t\\in[0, 2\\pi]$\n",
    "\n",
    "Функція для побудови графіків прямого, оберненого перетворення Лаґерра та початкової функції"
   ]
  },
  {
   "cell_type": "code",
   "execution_count": 293,
   "id": "6354bb59ff86f385",
   "metadata": {
    "ExecuteTime": {
     "end_time": "2023-12-11T22:12:45.300602Z",
     "start_time": "2023-12-11T22:12:43.786718Z"
    },
    "collapsed": false,
    "jupyter": {
     "outputs_hidden": false
    }
   },
   "outputs": [
    {
     "data": {
      "application/vnd.jupyter.widget-view+json": {
       "model_id": "9e05640718e74cf8a37e10e35a4149f4",
       "version_major": 2,
       "version_minor": 0
      },
      "text/plain": [
       "interactive(children=(IntSlider(value=20, description='Макс. n', max=20), FloatSlider(value=6.283185307179586,…"
      ]
     },
     "metadata": {},
     "output_type": "display_data"
    },
    {
     "data": {
      "text/plain": [
       "<function ipywidgets.widgets.interaction._InteractFactory.__call__.<locals>.<lambda>(*args, **kwargs)>"
      ]
     },
     "execution_count": 293,
     "metadata": {},
     "output_type": "execute_result"
    }
   ],
   "source": [
    "widgets.interact(\n",
    "    plotter.plot_laguerre_transform,\n",
    "    f=widgets.fixed(f),\n",
    "    n_max=widgets.IntSlider(\n",
    "        value=20,\n",
    "        min=0,\n",
    "        max=20,\n",
    "        step=1,\n",
    "        description='Макс. n'\n",
    "    ),\n",
    "    t_max=widgets.FloatSlider(\n",
    "        value=2 * np.pi,\n",
    "        min=0,\n",
    "        max=10,\n",
    "        step=0.1,\n",
    "        description='Макс. t'\n",
    "    ),\n",
    "    t_step=widgets.FloatSlider(\n",
    "        value=0.01,\n",
    "        min=0.01,\n",
    "        max=1,\n",
    "        step=0.01,\n",
    "        description='Крок t'\n",
    "    ),\n",
    "    int_points=widgets.IntSlider(\n",
    "        value=10000,\n",
    "        min=1,\n",
    "        max=100000,\n",
    "        step=1000,\n",
    "        description='Кількість інтервалів розбиття для інтегрування'\n",
    "    )\n",
    ")"
   ]
  },
  {
   "cell_type": "markdown",
   "id": "a2340958f33c8e38",
   "metadata": {
    "collapsed": false,
    "jupyter": {
     "outputs_hidden": false
    }
   },
   "source": [
    "![Widget screenshot](screenshots/classes_7.png)"
   ]
  },
  {
   "cell_type": "markdown",
   "id": "91cd41c49e5950fe",
   "metadata": {
    "collapsed": false,
    "jupyter": {
     "outputs_hidden": false
    }
   },
   "source": [
    "## Графік $\\widetilde{g}^N(t), t\\in[0, 1]$\n",
    "\n",
    "Побудова графіків прямого, оберненого перетворення Лаґерра для власної функції g"
   ]
  },
  {
   "cell_type": "code",
   "execution_count": 294,
   "id": "bce6daab0f85f410",
   "metadata": {
    "ExecuteTime": {
     "end_time": "2023-12-11T22:12:46.804331Z",
     "start_time": "2023-12-11T22:12:45.304316Z"
    },
    "collapsed": false,
    "jupyter": {
     "outputs_hidden": false
    }
   },
   "outputs": [
    {
     "data": {
      "application/vnd.jupyter.widget-view+json": {
       "model_id": "ff0c008673d04b46885c60b50ddb88ad",
       "version_major": 2,
       "version_minor": 0
      },
      "text/plain": [
       "interactive(children=(IntSlider(value=20, description='Макс. n', max=20), FloatSlider(value=1.0, description='…"
      ]
     },
     "metadata": {},
     "output_type": "display_data"
    },
    {
     "data": {
      "text/plain": [
       "<function ipywidgets.widgets.interaction._InteractFactory.__call__.<locals>.<lambda>(*args, **kwargs)>"
      ]
     },
     "execution_count": 294,
     "metadata": {},
     "output_type": "execute_result"
    }
   ],
   "source": [
    "def g(t):\n",
    "    if t != 0:\n",
    "        return t * np.sin(1 / t)\n",
    "    return 0\n",
    "\n",
    "\n",
    "widgets.interact(\n",
    "    plotter.plot_laguerre_transform,\n",
    "    f=widgets.fixed(g),\n",
    "    n_max=widgets.IntSlider(\n",
    "        value=20,\n",
    "        min=0,\n",
    "        max=20,\n",
    "        step=1,\n",
    "        description='Макс. n'\n",
    "    ),\n",
    "    t_max=widgets.FloatSlider(\n",
    "        value=1,\n",
    "        min=0,\n",
    "        max=10,\n",
    "        step=0.1,\n",
    "        description='Макс. t'\n",
    "    ),\n",
    "    t_step=widgets.FloatSlider(\n",
    "        value=0.01,\n",
    "        min=0.01,\n",
    "        max=1,\n",
    "        step=0.01,\n",
    "        description='Крок t'\n",
    "    ),\n",
    "    int_points=widgets.IntSlider(\n",
    "        value=10000,\n",
    "        min=1,\n",
    "        max=100000,\n",
    "        step=1000,\n",
    "        description='К-сть інтервалів розбиття для інтегрування'\n",
    "    )\n",
    ")"
   ]
  },
  {
   "cell_type": "markdown",
   "id": "361c936115471ec7",
   "metadata": {
    "collapsed": false,
    "jupyter": {
     "outputs_hidden": false
    }
   },
   "source": [
    "![Widget screenshot](screenshots/classes_8.png)"
   ]
  },
  {
   "cell_type": "markdown",
   "id": "229d127710b6f5ab",
   "metadata": {
    "collapsed": false,
    "jupyter": {
     "outputs_hidden": false
    }
   },
   "source": [
    "## Висновок\n",
    "\n",
    "У лабораторній роботі було розглянуто використання многочленів Лаґерра у контексті обчислення їхнього прямого та оберненого перетворення. Були реалізовані функції для обчислення многочленів, їхньої табуляції, проведення обчислювального експерименту для знаходження оптимального значення аргументу t та обчислення перетворень.\n",
    "\n",
    "В результаті роботи було показано, як можна використовувати многочлени Лаґерра для перетворення функцій та як здійснювати обернене перетворення для відновлення початкових функцій. Проведено аналіз та вивчення залежностей між параметрами многочленів Лаґерра та їхніми властивостями.\n",
    "\n",
    "Окремий акцент був зроблений на побудові графіків многочленів Лаґерра для різних значень степенів. Це дозволило візуально спостерігати їхні властивості та залежність від параметрів.\n",
    "\n",
    "Також було проведено аналіз двох функцій, одна з яких була задана, а інша — власна. Для них було побудовано графіки перетворення Лаґерра та оберненого перетворення, що дозволило візуально спостерігати схожість графіку оберненого перетворення та початкової функції.\n",
    "\n",
    "Отже, лабораторна робота надала можливість здобути практичні навички використання многочленів Лаґерра."
   ]
  }
 ],
 "metadata": {
  "kernelspec": {
   "display_name": "Python 3 (ipykernel)",
   "language": "python",
   "name": "python3"
  },
  "language_info": {
   "codemirror_mode": {
    "name": "ipython",
    "version": 3
   },
   "file_extension": ".py",
   "mimetype": "text/x-python",
   "name": "python",
   "nbconvert_exporter": "python",
   "pygments_lexer": "ipython3",
   "version": "3.12.2"
  }
 },
 "nbformat": 4,
 "nbformat_minor": 5
}
